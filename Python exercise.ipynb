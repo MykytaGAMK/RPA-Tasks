{
  "metadata": {
    "kernelspec": {
      "name": "python",
      "display_name": "Python (Pyodide)",
      "language": "python"
    },
    "language_info": {
      "codemirror_mode": {
        "name": "python",
        "version": 3
      },
      "file_extension": ".py",
      "mimetype": "text/x-python",
      "name": "python",
      "nbconvert_exporter": "python",
      "pygments_lexer": "ipython3",
      "version": "3.8"
    }
  },
  "nbformat_minor": 4,
  "nbformat": 4,
  "cells": [
    {
      "cell_type": "code",
      "source": "mystring = \"hello\"\nmyfloat = float(10)\nmyint = 20\n\nif mystring == \"hello\":\n    print (\"String: %s\" % mystring)\nif isinstance (myfloat, float) and myfloat == 10.0:\n    print (\"Float: %f\" % myfloat)\nif isinstance (myint, int) and myint == 20:\n    print (\"Integer: %d\" % myint)",
      "metadata": {
        "trusted": true
      },
      "outputs": [
        {
          "name": "stdout",
          "text": "String: hello\nFloat: 10.000000\nInteger: 20\n",
          "output_type": "stream"
        }
      ],
      "execution_count": 35
    },
    {
      "cell_type": "code",
      "source": "#In Python, the letters following the % operator, such as %s, %d, %f, etc., \n#are known as conversion flags. These conversion flags specify how the value \n#being inserted into the string should be formatted. Here are some common conversion flags:\n# %s: String conversion. This is used to insert a string representation of the value.\n# %d: Decimal integer conversion. This is used to insert a decimal integer.\n# %f: Floating-point conversion. This is used to insert a floating-point number.\n# %x, %X: Hexadecimal conversion. These are used to insert the hexadecimal representation of an integer. \n# %x produces lowercase hexadecimal digits (0-9, a-f), while %X produces uppercase (0-9, A-F).\n# %o: Octal conversion. This is used to insert the octal representation of an integer.\n# %r: Repr conversion. This is used to insert a string representation using Python's repr() function.\n",
      "metadata": {
        "trusted": true
      },
      "outputs": [],
      "execution_count": 32
    },
    {
      "cell_type": "code",
      "source": "",
      "metadata": {
        "trusted": true
      },
      "outputs": [],
      "execution_count": null
    }
  ]
}